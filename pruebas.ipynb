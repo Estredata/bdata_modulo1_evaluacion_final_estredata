{
 "cells": [
  {
   "cell_type": "code",
   "execution_count": 2,
   "metadata": {},
   "outputs": [],
   "source": [
    "class Tiendaonline:\n",
    "    def __init__(self,inventario):\n",
    "        self.inventario = inventario\n",
    "        self.productos = {} # {id_producto:[nombre,precio,cantidad]}\n",
    "        self.clientes = {} # { id_cliente: [nombre, email]}\n",
    "        self.ventas = [] # [(id_venta, id_cliente, id_producto, cantidad)]\n",
    "\n",
    "    def almacenar_productos(self,id_producto,nombre,precio,cantidad):\n",
    "\n",
    "        if id_producto not in self.productos.keys(): #si el producto no esta en una clave del diccionario\n",
    "            self.productos[id_producto] = [nombre,precio,cantidad] # el producto va a tener nombre precio y cantidad\n",
    "            print(f\"hemos añadido{cantidad} unidades del producto{nombre} que cuesta{precio} cada uno.\")\n",
    "            return self.productos \n",
    "        else:\n",
    "            print(f\"producto{nombre}ya existe en inventario\")# lo contrario es que no existe en el inventario\n",
    " "
   ]
  },
  {
   "cell_type": "code",
   "execution_count": 24,
   "metadata": {},
   "outputs": [
    {
     "name": "stdout",
     "output_type": "stream",
     "text": [
      "añadimos productos:\n"
     ]
    },
    {
     "ename": "NameError",
     "evalue": "name 'tienda' is not defined",
     "output_type": "error",
     "traceback": [
      "\u001b[0;31m---------------------------------------------------------------------------\u001b[0m",
      "\u001b[0;31mNameError\u001b[0m                                 Traceback (most recent call last)",
      "Cell \u001b[0;32mIn[24], line 6\u001b[0m\n\u001b[1;32m      4\u001b[0m \u001b[38;5;66;03m# añadimos productos  para comprobar si funciona el metodo\u001b[39;00m\n\u001b[1;32m      5\u001b[0m \u001b[38;5;28mprint\u001b[39m(\u001b[38;5;124m\"\u001b[39m\u001b[38;5;124mañadimos productos:\u001b[39m\u001b[38;5;124m\"\u001b[39m)\n\u001b[0;32m----> 6\u001b[0m \u001b[43mtienda\u001b[49m\u001b[38;5;241m.\u001b[39malmacenar_productos(\u001b[38;5;124m\"\u001b[39m\u001b[38;5;124mcamisa\u001b[39m\u001b[38;5;124m\"\u001b[39m, \u001b[38;5;241m20\u001b[39m,\u001b[38;5;241m40\u001b[39m)\n\u001b[1;32m      7\u001b[0m tienda\u001b[38;5;241m.\u001b[39malmacenar_productos(\u001b[38;5;124m\"\u001b[39m\u001b[38;5;124mcamisa\u001b[39m\u001b[38;5;124m\"\u001b[39m, \u001b[38;5;241m30\u001b[39m,\u001b[38;5;241m30\u001b[39m)\n\u001b[1;32m      8\u001b[0m tienda\u001b[38;5;241m.\u001b[39malmacenar_productos(\u001b[38;5;124m\"\u001b[39m\u001b[38;5;124mcamisa\u001b[39m\u001b[38;5;124m\"\u001b[39m, \u001b[38;5;241m20\u001b[39m,\u001b[38;5;241m40\u001b[39m)\u001b[38;5;66;03m# este producto es repetido\u001b[39;00m\n",
      "\u001b[0;31mNameError\u001b[0m: name 'tienda' is not defined"
     ]
    }
   ],
   "source": [
    "# ejemplo para usarlo\n",
    "inventario1 = [({\"nombre\":\"camisa\", \"precio\": 20, \"cantidad\": 40}, {\"nombre\":\"pantalon\", \"precio\": 30, \"cantidad\": 30})]\n",
    "Tienda = Tiendaonline(inventario1)\n",
    "# añadimos productos  para comprobar si funciona el metodo\n",
    "print(\"añadimos productos:\")\n",
    "tienda.almacenar_productos(\"camisa\", 20,40)\n",
    "tienda.almacenar_productos(\"camisa\", 30,30)\n",
    "tienda.almacenar_productos(\"camisa\", 20,40)# este producto es repetido\n",
    "\n",
    "#verificamos los productos que tenemos almacenados\n",
    "print(\"\\nproductos en inventario:\")\n",
    "for id.producto,detalles in teinda.productos.items():\n",
    "    print(f\"id produto: (id.producto).detalles: (detalles)\")"
   ]
  },
  {
   "cell_type": "code",
   "execution_count": null,
   "metadata": {},
   "outputs": [
    {
     "name": "stdout",
     "output_type": "stream",
     "text": [
      "añadimos productos:\n"
     ]
    },
    {
     "ename": "NameError",
     "evalue": "name 'tienda' is not defined",
     "output_type": "error",
     "traceback": [
      "\u001b[0;31m---------------------------------------------------------------------------\u001b[0m",
      "\u001b[0;31mNameError\u001b[0m                                 Traceback (most recent call last)",
      "Cell \u001b[0;32mIn[20], line 3\u001b[0m\n\u001b[1;32m      1\u001b[0m \u001b[38;5;66;03m# añadimos productos  para comprobar si funciona el metodo\u001b[39;00m\n\u001b[1;32m      2\u001b[0m \u001b[38;5;28mprint\u001b[39m(\u001b[38;5;124m\"\u001b[39m\u001b[38;5;124mañadimos productos:\u001b[39m\u001b[38;5;124m\"\u001b[39m)\n\u001b[0;32m----> 3\u001b[0m \u001b[43mtienda\u001b[49m\u001b[38;5;241m.\u001b[39malmacenar_productos(\u001b[38;5;241m1\u001b[39m,\u001b[38;5;124m\"\u001b[39m\u001b[38;5;124mcamisa\u001b[39m\u001b[38;5;124m\"\u001b[39m, \u001b[38;5;241m20\u001b[39m,\u001b[38;5;241m40\u001b[39m)\n\u001b[1;32m      4\u001b[0m tienda\u001b[38;5;241m.\u001b[39malmacenar_productos(\u001b[38;5;241m2\u001b[39m,\u001b[38;5;124m\"\u001b[39m\u001b[38;5;124mcamisa\u001b[39m\u001b[38;5;124m\"\u001b[39m, \u001b[38;5;241m30\u001b[39m,\u001b[38;5;241m30\u001b[39m)\n\u001b[1;32m      5\u001b[0m tienda\u001b[38;5;241m.\u001b[39malmacenar_productos(\u001b[38;5;241m3\u001b[39m,\u001b[38;5;124m\"\u001b[39m\u001b[38;5;124mcamisa\u001b[39m\u001b[38;5;124m\"\u001b[39m, \u001b[38;5;241m20\u001b[39m,\u001b[38;5;241m40\u001b[39m)\u001b[38;5;66;03m# este producto es repetido\u001b[39;00m\n",
      "\u001b[0;31mNameError\u001b[0m: name 'tienda' is not defined"
     ]
    }
   ],
   "source": [
    "# añadimos productos  para comprobar si funciona el metodo\n",
    "print(\"añadimos productos:\")\n",
    "tienda.almacenar_productos(1,\"camisa\", 20,40)\n",
    "tienda.almacenar_productos(2,\"camisa\", 30,30)\n",
    "tienda.almacenar_productos(3,\"camisa\", 20,40)# este producto es repetido"
   ]
  },
  {
   "cell_type": "code",
   "execution_count": 28,
   "metadata": {},
   "outputs": [],
   "source": [
    "# COPIA 3 \n",
    "class Tiendaonline:\n",
    "# ATRIBUTOS de la TiendaOnline es decir tienda (parecido a Animales y domestico)\n",
    "    def __init__(self,tienda):\n",
    "        self.tienda = tienda\n",
    "        self.inventario = [] # va a ser una lista de diccionarios, estos diccionarios son los productos\n",
    "        self.productos = {} # esto es un diccionario {id_producto:[nombre,precio,cantidad]} recordar diccionario tiene clave y valor\n",
    "        self.clientes = {} # esto es una diccionario { id_cliente: [nombre, email]}\n",
    "        self.ventas = [] # esto es una lista que registra lo que se vende [(id_venta, id_cliente, id_producto, cantidad)]\n",
    "\n",
    "# METODO: de almacenar productos con distintos parametros este metodo tendrá que verificar comportamientos de los atributos\n",
    "\n",
    "    def almacenar_productos(self,id_producto,nombre,precio,cantidad):\n",
    "        if id_producto not in self.productos:\n",
    "             #si el producto no esta en una clave del diccionario\n",
    "#El producto existe en el inventario? voy hacer la prueba\n",
    "            for producto in self.inventario: \n",
    "                if producto[\"id\"] == id_producto: \n",
    "                    print(f\"El producto {nombre} ya existe en el inventario.\")\n",
    "                    return\n",
    "\n",
    "#si el producto no esta en el inventario me lo introduces en lista como un nuevo diccionario\n",
    "            nuevo_producto = {\"id\": id_producto, \"nombre\": nombre, \"precio\": precio, \"cantidad\": cantidad}\n",
    "            self.inventario.append(nuevo_producto) # me añades un nuevo producto en el inventario\n",
    "            self.productos[id_producto] = [nombre,precio,cantidad] # este producto tendrá las siguientes claves creo que puedo usar Keys no sé??\n",
    "            print(f\"hemos añadido {cantidad} producto {nombre} que cuesta {precio}\")\n",
    "            return self.productos \n",
    "        else:\n",
    "            print(f\"producto {nombre} ya existe en inventario.\")# lo contrario es que no existe en el inventario\n",
    "\n",
    "# voy con el atributo cliente "
   ]
  }
 ],
 "metadata": {
  "kernelspec": {
   "display_name": "Python 3",
   "language": "python",
   "name": "python3"
  },
  "language_info": {
   "codemirror_mode": {
    "name": "ipython",
    "version": 3
   },
   "file_extension": ".py",
   "mimetype": "text/x-python",
   "name": "python",
   "nbconvert_exporter": "python",
   "pygments_lexer": "ipython3",
   "version": "3.8.9"
  }
 },
 "nbformat": 4,
 "nbformat_minor": 2
}
