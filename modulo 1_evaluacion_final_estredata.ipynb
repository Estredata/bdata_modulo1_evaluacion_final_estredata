{
 "cells": [
  {
   "cell_type": "markdown",
   "metadata": {},
   "source": [
    "# Ejercicio evalución final"
   ]
  },
  {
   "cell_type": "code",
   "execution_count": null,
   "metadata": {},
   "outputs": [],
   "source": [
    "# vo"
   ]
  },
  {
   "cell_type": "code",
   "execution_count": 6,
   "metadata": {},
   "outputs": [],
   "source": [
    "# voy a crear un producto que será un diccionario con las siguientes claves: nombre, precio y cantidad\n",
    "\n",
    "producto1 = {\"nombre\": \"camisa\", \"precio\": 20, \"cantidad\":40}\n",
    "producto2 = {\"nombre\": \"pantalon\", \"precio\": 30, \"cantidad\":30}"
   ]
  },
  {
   "cell_type": "code",
   "execution_count": 7,
   "metadata": {},
   "outputs": [],
   "source": [
    "class Tiendaonline:\n",
    "    def __init__(self,inventario):\n",
    "        self.inventario = inventario\n",
    "        self.producto = [{}]"
   ]
  },
  {
   "cell_type": "code",
   "execution_count": 8,
   "metadata": {},
   "outputs": [],
   "source": [
    "class Tiendaonline:\n",
    "    def __init__(self,inventario):\n",
    "        self.inventario = inventario\n",
    "        self.producto = [{\"nombre\": \"camisa\", \"precio\": 20, \"cantidad\": 40},{\"nombre\": \"pantalon\", \"precio\": 30, \"cantidad\": 30}]\n",
    "        self.cliente = {}\n"
   ]
  }
 ],
 "metadata": {
  "kernelspec": {
   "display_name": "Python 3",
   "language": "python",
   "name": "python3"
  },
  "language_info": {
   "codemirror_mode": {
    "name": "ipython",
    "version": 3
   },
   "file_extension": ".py",
   "mimetype": "text/x-python",
   "name": "python",
   "nbconvert_exporter": "python",
   "pygments_lexer": "ipython3",
   "version": "3.8.9"
  }
 },
 "nbformat": 4,
 "nbformat_minor": 2
}
