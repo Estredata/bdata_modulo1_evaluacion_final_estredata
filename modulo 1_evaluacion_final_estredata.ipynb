{
 "cells": [
  {
   "cell_type": "markdown",
   "metadata": {},
   "source": [
    "# Ejercicio evalución final"
   ]
  },
  {
   "cell_type": "code",
   "execution_count": null,
   "metadata": {},
   "outputs": [],
   "source": []
  },
  {
   "cell_type": "code",
   "execution_count": 10,
   "metadata": {},
   "outputs": [],
   "source": [
    "# voy a crear una lista vacia para el inventario\n",
    "inventario = []"
   ]
  },
  {
   "cell_type": "code",
   "execution_count": 43,
   "metadata": {},
   "outputs": [],
   "source": [
    "# voy a crear un producto que será un diccionario con las siguientes claves: nombre, precio y cantidad\n",
    "\n",
    "producto1 = {\"nombre\": \"camisa\", \"precio\": 20, \"cantidad\":40}\n",
    "producto2 = {\"nombre\": \"pantalon\", \"precio\": 30, \"cantidad\":30}"
   ]
  },
  {
   "cell_type": "code",
   "execution_count": 44,
   "metadata": {},
   "outputs": [
    {
     "name": "stdout",
     "output_type": "stream",
     "text": [
      "{'nombre': 'camisa', 'precio': 20, 'cantidad': 40}\n",
      "{'nombre': 'pantalon', 'precio': 30, 'cantidad': 30}\n"
     ]
    }
   ],
   "source": [
    "# voy a definir el diccionario producto \n",
    "dicc_producto1 = dict(nombre=\"camisa\", precio= 20,cantidad= 40)\n",
    "print(dicc_producto1)\n",
    "dicc_producto2 = dict(nombre=\"pantalon\", precio= 30, cantidad= 30)\n",
    "print(dicc_producto2)\n",
    "\n"
   ]
  },
  {
   "cell_type": "code",
   "execution_count": 45,
   "metadata": {},
   "outputs": [
    {
     "name": "stdout",
     "output_type": "stream",
     "text": [
      "inventario:\n",
      "{'nombre': 'camisa', 'precio': 20, 'cantidad': 40}\n",
      "{'nombre': 'pantalon', 'precio': 30, 'cantidad': 30}\n"
     ]
    }
   ],
   "source": [
    "# voy a crear una lista que se llamará inventario que contenga los dos diccionarios\n",
    "inventario = [ dicc_producto1, dicc_producto2]\n",
    "print(\"inventario:\")\n",
    "for item in inventario:\n",
    "    print(item)\n"
   ]
  },
  {
   "cell_type": "code",
   "execution_count": 46,
   "metadata": {},
   "outputs": [
    {
     "name": "stdout",
     "output_type": "stream",
     "text": [
      "3\n",
      "sacamos los keys del diccionario() dict_keys(['nombre', 'precio', 'cantidad'])\n",
      "sacamos lo que hace values() dict_values(['camisa', 20, 40])\n",
      "sacamos la cantidad de items() dict_items([('nombre', 'camisa'), ('precio', 20), ('cantidad', 40)])\n"
     ]
    }
   ],
   "source": [
    "# voy hacer unas pruebas y voy a extraer claves y valores de los diccionarios creados\n",
    "print(len(dicc_producto1))\n",
    "print (\"sacamos los keys del diccionario()\", dicc_producto1.keys())\n",
    "print (\"sacamos lo que hace values()\", dicc_producto1.values())\n",
    "print (\"sacamos la cantidad de items()\", dicc_producto1.items())\n"
   ]
  },
  {
   "cell_type": "code",
   "execution_count": 48,
   "metadata": {},
   "outputs": [],
   "source": [
    "class Tiendaonline:\n",
    "    def __init__(self,inventario):\n",
    "        self.inventario = inventario\n",
    "        self.producto = [{}]"
   ]
  },
  {
   "cell_type": "code",
   "execution_count": 49,
   "metadata": {},
   "outputs": [],
   "source": [
    "class Tiendaonline:\n",
    "    def __init__(self,inventario):\n",
    "        self.inventario = inventario\n",
    "        self.producto = [{\"nombre\": \"camisa\", \"precio\": 20, \"cantidad\": 40},{\"nombre\": \"pantalon\", \"precio\": 30, \"cantidad\": 30}]\n",
    "        self.cliente = {}\n"
   ]
  },
  {
   "cell_type": "code",
   "execution_count": 50,
   "metadata": {},
   "outputs": [],
   "source": [
    "class Tiendaonline:\n",
    "    def __init__(self,inventario):\n",
    "        self.inventario = inventario\n",
    "        self.productos = {} # {id_producto:[nombre,precio,cantidad]}\n",
    "        self.clientes = {} # { id_cliente: [nombre, email]}\n",
    "        self.ventas = [] # [(id_venta, id_cliente, id_producto, cantidad)]\n",
    "\n",
    "    def almacenar_productos(self,id_producto,nombre,precio,cantidad):\n",
    "\n",
    "        if id_producto not in self.productos.keys(): #si el producto no esta en una clave del diccionario\n",
    "            self.productos[id_producto] = [nombre,precio,cantidad] # el producto va a tener nombre precio y cantidad\n",
    "            print(f\"hemos añadido{cantidad} unidades del producto{nombre} que cuesta{precio} cada uno.\")\n",
    "            return self.productos \n",
    "        else:\n",
    "            print(f\"producto{nombre}ya existe en inventario\")# lo contrario es que no existe en el inventario\n",
    " "
   ]
  },
  {
   "cell_type": "code",
   "execution_count": 72,
   "metadata": {},
   "outputs": [
    {
     "name": "stdout",
     "output_type": "stream",
     "text": [
      "producto camisa ya existe en inventario\n",
      "producto camisa ya existe en inventario\n",
      "producto calcetines ya existe en inventario\n",
      "producto calcetines ya existe en inventario\n",
      "producto camisa ya existe en inventario\n",
      "producto camisa ya existe en inventario\n"
     ]
    }
   ],
   "source": [
    "# copia 1 voy a modificar esta copia creo que no tengo definido bien inventario como lista de diccionarios \n",
    "class Tiendaonline:\n",
    "    def __init__(self,inventario):\n",
    "        self.inventario = inventario\n",
    "        self.productos = {} # {id_producto:[nombre,precio,cantidad]}\n",
    "        self.clientes = {} # { id_cliente: [nombre, email]}\n",
    "        self.ventas = [] # [(id_venta, id_cliente, id_producto, cantidad)]\n",
    "\n",
    "    def almacenar_productos(self,id_producto,nombre,precio,cantidad):\n",
    "\n",
    "        if id_producto not in self.productos:\n",
    "             #si el producto no esta en una clave del diccionario\n",
    "#El producto existe en el inventario? voy hacer la prueba\n",
    "            for producto in self.inventario: \n",
    "                if producto[\"id\"] == \"id_producto\": \n",
    "                    print(f\"El producto{nombre} ya existe en el inventario\")\n",
    "                    return\n",
    "                    #si el produto no esta en el inventario me lo introduces en lista\n",
    "                    self.productos[id_producto] = [nombre,precio,cantidad] \n",
    "                    print(f\"hemos añadido{cantidad} producto{nombre} que cuesta{precio}\")\n",
    "                    return self.productos \n",
    "                else:\n",
    "                    print(f\"producto {nombre} ya existe en inventario\")# lo contrario es que no existe en el inventario\n",
    "\n",
    "# Pruebo con los ejemplos de la evaluacion\n",
    "inventario = [{\"id\": 1, \"nombre\": \"camisa\", \"precio\": 20, \"cantidad\": 40},\n",
    "{\"id\":2, \"nombre\":\"pantalon\", \"precio\":30, \"cantidad\": 30}]\n",
    "\n",
    "tienda = Tiendaonline(inventario=inventario)\n",
    "tienda.almacenar_productos(1, \"camisa\", 20, 40)\n",
    "tienda.almacenar_productos(3, \"calcetines\", 9, 2) # esto es un nuevo producto\n",
    "tienda.almacenar_productos(1, \"camisa\", 20, 40 ) # este producto está repetido\n",
    "\n",
    "#no sé porque me salen dos veces escritos "
   ]
  },
  {
   "cell_type": "code",
   "execution_count": 73,
   "metadata": {},
   "outputs": [],
   "source": [
    "# copia 2 vuelvo hacer una copia\n",
    "class Tiendaonline:\n",
    "    def __init__(self,inventario):\n",
    "        self.inventario = inventario # va a ser una lista de diccionarios, estos diccionarios son los productos\n",
    "        self.productos = {} # esto es un diccionario {id_producto:[nombre,precio,cantidad]} recordar diccionario tiene clave y valor\n",
    "        self.clientes = {} # esto es una diccionario { id_cliente: [nombre, email]}\n",
    "        self.ventas = [] # esto es una lista que registra lo que se vende [(id_venta, id_cliente, id_producto, cantidad)]\n",
    "# METODOS\n",
    "    def almacenar_productos(self,id_producto,nombre,precio,cantidad):\n",
    "\n",
    "        if id_producto not in self.productos:\n",
    "             #si el producto no esta en una clave del diccionario\n",
    "#El producto existe en el inventario? voy hacer la prueba\n",
    "            for producto in self.inventario: \n",
    "                if producto[\"id\"] == \"id_producto\": \n",
    "                    print(f\"El producto{nombre} ya existe en el inventario\")\n",
    "                    return\n",
    "                    #si el produto no esta en el inventario me lo introduces en lista\n",
    "                    self.productos[id_producto] = [nombre,precio,cantidad] \n",
    "                    print(f\"hemos añadido{cantidad} producto{nombre} que cuesta{precio}\")\n",
    "                    return self.productos \n",
    "                else:\n",
    "                    print(f\"producto {nombre} ya existe en inventario\")# lo contrario es que no existe en el inventario\n",
    "\n",
    "# voy con el atributo cliente \n"
   ]
  },
  {
   "cell_type": "code",
   "execution_count": 77,
   "metadata": {},
   "outputs": [],
   "source": [
    "# COPIA 3 he corregido cosas pero no sé si para mejor voy con el cliente\n",
    "class Tiendaonline:\n",
    "# ATRIBUTOS de la TiendaOnline es decir tienda (parecido a Animales y domestico)\n",
    "    def __init__(self,tienda):\n",
    "        self.tienda = tienda\n",
    "        self.inventario = [] # va a ser una lista de diccionarios, estos diccionarios son los productos\n",
    "        self.productos = {} # esto es un diccionario {id_producto:[nombre,precio,cantidad]} recordar diccionario tiene clave y valor\n",
    "        self.clientes = {} # esto es una diccionario { id_cliente: [nombre, email]}\n",
    "        self.ventas = [] # esto es una lista que registra lo que se vende [(id_venta, id_cliente, id_producto, cantidad)]\n",
    "\n",
    "# METODO: de almacenar productos con distintos parametros este metodo tendrá que verificar comportamientos de los atributos\n",
    "\n",
    "    def almacenar_productos(self,id_producto,nombre,precio,cantidad):\n",
    "        if id_producto not in self.productos:\n",
    "             #si el producto no esta en una clave del diccionario\n",
    "#El producto existe en el inventario? voy hacer la prueba\n",
    "            for producto in self.inventario: \n",
    "                if producto[\"id\"] == id_producto: \n",
    "                    print(f\"El producto {nombre} ya existe en el inventario.\")\n",
    "                    return\n",
    "\n",
    "#si el producto no esta en el inventario me lo introduces en lista como un nuevo diccionario\n",
    "            nuevo_producto = {\"id\": id_producto, \"nombre\": nombre, \"precio\": precio, \"cantidad\": cantidad}\n",
    "            self.inventario.append(nuevo_producto) # me añades un nuevo producto en el inventario\n",
    "            self.productos[id_producto] = [nombre,precio,cantidad] # este producto tendrá las siguientes claves creo que puedo usar Keys no sé??\n",
    "            print(f\"hemos añadido {cantidad} producto {nombre} que cuesta {precio}\")\n",
    "            return self.productos \n",
    "        else:\n",
    "            print(f\"producto {nombre} ya existe en inventario.\")# lo contrario es que no existe en el inventario\n",
    "\n",
    "# METODO: Voy con las caracteriscas del atributo cliente: un registro de cliente y que tenga un historial de compras\n",
    "#tendremos que hacer dos cosas REGISTRAR AL CLIENTE y REGISTRA LO QUE COMPRE\n",
    "\n",
    "    def registro_clientes (self, id_cliente, nombre, email):\n",
    "        #El cliente existe, ya ¿está registrado?\n",
    "        if id_cliente not in self.clientes:\n",
    "            # sino esta registrado hacemos un diccionario con las siguientes claves y valores\n",
    "            self.clientes[id.cliente] = {\"nombre\": nombre, \"email\": email, \"historial_compras\": []}\n",
    "            print(f\"Ya estas registrado como {nombre} y tu correo es {email} de momento no hay compras\")\n",
    "            return self.clientes\n",
    "        else:\n",
    "            print(f\"El cliente con este {nombre} ya está registrado y este es el {email}\")\n",
    "\n",
    "# ahora voy a  registrar lo que compre\n",
    "\n",
    "    def registrar_compras (self, id_cliente, nombre_producto, cantidad, precio):\n",
    "        #El cliente ha realizado compras antes ¿cual es su historial?\n",
    "\n",
    "\n",
    " "
   ]
  },
  {
   "cell_type": "code",
   "execution_count": 83,
   "metadata": {},
   "outputs": [],
   "source": [
    "# COPIA 4 sigo con el cliente y el historial de compras \n",
    "class Tiendaonline:\n",
    "# ATRIBUTOS de la TiendaOnline es decir tienda (parecido a Animales y domestico)\n",
    "    def __init__(self,tienda):\n",
    "        self.tienda = tienda\n",
    "        self.inventario = [] # va a ser una lista de diccionarios, estos diccionarios son los productos\n",
    "        self.productos = {} # esto es un diccionario {id_producto:[nombre,precio,cantidad]} recordar diccionario tiene clave y valor\n",
    "        self.clientes = {} # esto es una diccionario { id_cliente: [nombre, email]}\n",
    "        self.ventas = [] # esto es una lista que registra lo que se vende [(id_venta, id_cliente, id_producto, cantidad)]\n",
    "\n",
    "# METODO: de almacenar productos con distintos parametros este metodo tendrá que verificar comportamientos de los atributos\n",
    "\n",
    "    def almacenar_productos(self,id_producto,nombre,precio,cantidad):\n",
    "        if id_producto not in self.productos:\n",
    "             #si el producto no esta en una clave del diccionario\n",
    "#El producto existe en el inventario? voy hacer la prueba\n",
    "            for producto in self.inventario: \n",
    "                if producto[\"id\"] == id_producto: \n",
    "                    print(f\"El producto {nombre} ya existe en el inventario.\")\n",
    "                    return\n",
    "\n",
    "#si el producto no esta en el inventario me lo introduces en lista como un nuevo diccionario\n",
    "            nuevo_producto = {\"id\": id_producto, \"nombre\": nombre, \"precio\": precio, \"cantidad\": cantidad}\n",
    "            self.inventario.append(nuevo_producto) # me añades un nuevo producto en el inventario\n",
    "            self.productos[id_producto] = [nombre,precio,cantidad] # este producto tendrá las siguientes claves creo que puedo usar Keys no sé??\n",
    "            print(f\"hemos añadido {cantidad} producto {nombre} que cuesta {precio}\")\n",
    "            return self.productos \n",
    "        else:\n",
    "            print(f\"producto {nombre} ya existe en inventario.\")# lo contrario es que no existe en el inventario\n",
    "\n",
    "# METODO: Voy con las caracteriscas del atributo cliente: un registro de cliente y que tenga un historial de compras\n",
    "#tendremos que hacer dos cosas REGISTRAR AL CLIENTE y REGISTRA LO QUE COMPRE\n",
    "\n",
    "    def registro_clientes (self, id_cliente, nombre, email):\n",
    "        #El cliente existe, ya ¿está registrado?\n",
    "        if id_cliente not in self.clientes:\n",
    "            # sino esta registrado hacemos un diccionario con las siguientes claves y valores\n",
    "            self.clientes[id_cliente] = {\"nombre\": nombre, \"email\": email, \"historial_compras\": []}\n",
    "            print(f\"Ya estas registrado como {nombre} y tu correo es {email} de momento no hay compras\")\n",
    "            return self.clientes\n",
    "        else:\n",
    "            print(f\"El cliente con este {nombre} ya está registrado y este es el {email}\")\n",
    "\n",
    "# ahora voy a  registrar lo que compre\n",
    "\n",
    "    def registrar_compras (self, id_cliente, id_producto, cantidad):\n",
    "# ¿el producto está en el inventario?, es decir en el diccionario de producto\n",
    "# ¿el cliente está en el registro de clientes?, es decir en el diccionario del cliente\n",
    "        if id_producto in self.productos and id_cliente in self.clientes:\n",
    "\n",
    "            # si el producto esta en el inventario y el cliente está registrado me haces un historial de compras (lista)\n",
    "            historial_compras = [{\"id\": id_clientes, \"cliente\": nombre, \"email\": email}, {\"id\": id_producto,\"nombre\": nombre, \"cantidad\": cantidad, \"precio\": precio}]\n",
    "            self.producto.append(historial_compras) # me añades el producto en el historial de compra del cliente\n",
    "            print(f\"hemos añadido en tu historial de compras {cantidad} {nombre} con un coste total de {precio} \")\n",
    "            return self.historial_compras\n",
    "        else:\n",
    "            print(f\"No se ha realizado historial de compras\")\n"
   ]
  },
  {
   "cell_type": "code",
   "execution_count": 84,
   "metadata": {},
   "outputs": [],
   "source": [
    "# COPIA 5 ventas totales \n",
    "class Tiendaonline:\n",
    "# ATRIBUTOS de la TiendaOnline es decir tienda (parecido a Animales y domestico)\n",
    "    def __init__(self,tienda):\n",
    "        self.tienda = tienda\n",
    "        self.inventario = [] # va a ser una lista de diccionarios, estos diccionarios son los productos\n",
    "        self.productos = {} # esto es un diccionario {id_producto:[nombre,precio,cantidad]} recordar diccionario tiene clave y valor\n",
    "        self.clientes = {} # esto es una diccionario { id_cliente: [nombre, email]}\n",
    "        self.ventas = [] # esto es una lista que registra lo que se vende [(id_venta, id_cliente, id_producto, cantidad)]\n",
    "\n",
    "# METODO: de almacenar productos con distintos parametros este metodo tendrá que verificar comportamientos de los atributos\n",
    "\n",
    "    def almacenar_productos(self,id_producto,nombre,precio,cantidad):\n",
    "        if id_producto not in self.productos:\n",
    "             #si el producto no esta en una clave del diccionario\n",
    "#El producto existe en el inventario? voy hacer la prueba\n",
    "            for producto in self.inventario: \n",
    "                if producto[\"id\"] == id_producto: \n",
    "                    print(f\"El producto {nombre} ya existe en el inventario.\")\n",
    "                    return\n",
    "\n",
    "#si el producto no esta en el inventario me lo introduces en lista como un nuevo diccionario\n",
    "            nuevo_producto = {\"id\": id_producto, \"nombre\": nombre, \"precio\": precio, \"cantidad\": cantidad}\n",
    "            self.inventario.append(nuevo_producto) # me añades un nuevo producto en el inventario\n",
    "            self.productos[id_producto] = [nombre,precio,cantidad] # este producto tendrá las siguientes claves creo que puedo usar Keys no sé??\n",
    "            print(f\"hemos añadido {cantidad} producto {nombre} que cuesta {precio}\")\n",
    "            return self.productos \n",
    "        else:\n",
    "            print(f\"producto {nombre} ya existe en inventario.\")# lo contrario es que no existe en el inventario\n",
    "\n",
    "# METODO: Voy con las caracteriscas del atributo cliente: un registro de cliente y que tenga un historial de compras\n",
    "#tendremos que hacer dos cosas REGISTRAR AL CLIENTE y REGISTRA LO QUE COMPRE\n",
    "\n",
    "    def registro_clientes (self, id_cliente, nombre, email):\n",
    "        #El cliente existe, ya ¿está registrado?\n",
    "        if id_cliente not in self.clientes:\n",
    "            # sino esta registrado hacemos un diccionario con las siguientes claves y valores\n",
    "            self.clientes[id_cliente] = {\"nombre\": nombre, \"email\": email, \"historial_compras\": []}\n",
    "            print(f\"Ya estas registrado como {nombre} y tu correo es {email} de momento no hay compras\")\n",
    "            return self.clientes\n",
    "        else:\n",
    "            print(f\"El cliente con este {nombre} ya está registrado y este es el {email}\")\n",
    "\n",
    "# ahora voy a  registrar lo que compre\n",
    "\n",
    "    def registrar_compras (self, id_cliente, id_producto, cantidad):\n",
    "# ¿el producto está en el inventario?, es decir en el diccionario de producto\n",
    "# ¿el cliente está en el registro de clientes?, es decir en el diccionario del cliente\n",
    "        if id_producto in self.productos and id_cliente in self.clientes:\n",
    "\n",
    "            # si el producto esta en el inventario y el cliente está registrado me haces un historial de compras (lista)\n",
    "            historial_compras = [{\"id\": id_clientes, \"cliente\": nombre, \"email\": email}, {\"id\": id_producto,\"nombre\": nombre, \"cantidad\": cantidad, \"precio\": precio}]\n",
    "            self.producto.append(historial_compras) # me añades el producto en el historial de compra del cliente\n",
    "            print(f\"hemos añadido en tu historial de compras {cantidad} {nombre} con un coste total de {precio} \")\n",
    "            return self.historial_compras\n",
    "        else:\n",
    "            print(f\"No se ha realizado historial de compras\")"
   ]
  }
 ],
 "metadata": {
  "kernelspec": {
   "display_name": "Python 3",
   "language": "python",
   "name": "python3"
  },
  "language_info": {
   "codemirror_mode": {
    "name": "ipython",
    "version": 3
   },
   "file_extension": ".py",
   "mimetype": "text/x-python",
   "name": "python",
   "nbconvert_exporter": "python",
   "pygments_lexer": "ipython3",
   "version": "3.8.9"
  }
 },
 "nbformat": 4,
 "nbformat_minor": 2
}
