{
 "cells": [
  {
   "cell_type": "markdown",
   "metadata": {},
   "source": [
    "# Ejercicio evalución final"
   ]
  },
  {
   "cell_type": "code",
   "execution_count": null,
   "metadata": {},
   "outputs": [],
   "source": []
  },
  {
   "cell_type": "code",
   "execution_count": 10,
   "metadata": {},
   "outputs": [],
   "source": [
    "# voy a crear una lista vacia para el inventario\n",
    "inventario = []"
   ]
  },
  {
   "cell_type": "code",
   "execution_count": 43,
   "metadata": {},
   "outputs": [],
   "source": [
    "# voy a crear un producto que será un diccionario con las siguientes claves: nombre, precio y cantidad\n",
    "\n",
    "producto1 = {\"nombre\": \"camisa\", \"precio\": 20, \"cantidad\":40}\n",
    "producto2 = {\"nombre\": \"pantalon\", \"precio\": 30, \"cantidad\":30}"
   ]
  },
  {
   "cell_type": "code",
   "execution_count": 44,
   "metadata": {},
   "outputs": [
    {
     "name": "stdout",
     "output_type": "stream",
     "text": [
      "{'nombre': 'camisa', 'precio': 20, 'cantidad': 40}\n",
      "{'nombre': 'pantalon', 'precio': 30, 'cantidad': 30}\n"
     ]
    }
   ],
   "source": [
    "# voy a definir el diccionario producto \n",
    "dicc_producto1 = dict(nombre=\"camisa\", precio= 20,cantidad= 40)\n",
    "print(dicc_producto1)\n",
    "dicc_producto2 = dict(nombre=\"pantalon\", precio= 30, cantidad= 30)\n",
    "print(dicc_producto2)\n",
    "\n"
   ]
  },
  {
   "cell_type": "code",
   "execution_count": 45,
   "metadata": {},
   "outputs": [
    {
     "name": "stdout",
     "output_type": "stream",
     "text": [
      "inventario:\n",
      "{'nombre': 'camisa', 'precio': 20, 'cantidad': 40}\n",
      "{'nombre': 'pantalon', 'precio': 30, 'cantidad': 30}\n"
     ]
    }
   ],
   "source": [
    "# voy a crear una lista que se llamará inventario que contenga los dos diccionarios\n",
    "inventario = [ dicc_producto1, dicc_producto2]\n",
    "print(\"inventario:\")\n",
    "for item in inventario:\n",
    "    print(item)\n"
   ]
  },
  {
   "cell_type": "code",
   "execution_count": 46,
   "metadata": {},
   "outputs": [
    {
     "name": "stdout",
     "output_type": "stream",
     "text": [
      "3\n",
      "sacamos los keys del diccionario() dict_keys(['nombre', 'precio', 'cantidad'])\n",
      "sacamos lo que hace values() dict_values(['camisa', 20, 40])\n",
      "sacamos la cantidad de items() dict_items([('nombre', 'camisa'), ('precio', 20), ('cantidad', 40)])\n"
     ]
    }
   ],
   "source": [
    "# voy hacer unas pruebas y voy a extraer claves y valores de los diccionarios creados\n",
    "print(len(dicc_producto1))\n",
    "print (\"sacamos los keys del diccionario()\", dicc_producto1.keys())\n",
    "print (\"sacamos lo que hace values()\", dicc_producto1.values())\n",
    "print (\"sacamos la cantidad de items()\", dicc_producto1.items())\n"
   ]
  },
  {
   "cell_type": "code",
   "execution_count": 48,
   "metadata": {},
   "outputs": [],
   "source": [
    "class Tiendaonline:\n",
    "    def __init__(self,inventario):\n",
    "        self.inventario = inventario\n",
    "        self.producto = [{}]"
   ]
  },
  {
   "cell_type": "code",
   "execution_count": 49,
   "metadata": {},
   "outputs": [],
   "source": [
    "class Tiendaonline:\n",
    "    def __init__(self,inventario):\n",
    "        self.inventario = inventario\n",
    "        self.producto = [{\"nombre\": \"camisa\", \"precio\": 20, \"cantidad\": 40},{\"nombre\": \"pantalon\", \"precio\": 30, \"cantidad\": 30}]\n",
    "        self.cliente = {}\n"
   ]
  },
  {
   "cell_type": "code",
   "execution_count": 50,
   "metadata": {},
   "outputs": [],
   "source": [
    "class Tiendaonline:\n",
    "    def __init__(self,inventario):\n",
    "        self.inventario = inventario\n",
    "        self.productos = {} # {id_producto:[nombre,precio,cantidad]}\n",
    "        self.clientes = {} # { id_cliente: [nombre, email]}\n",
    "        self.ventas = [] # [(id_venta, id_cliente, id_producto, cantidad)]\n",
    "\n",
    "    def almacenar_productos(self,id_producto,nombre,precio,cantidad):\n",
    "\n",
    "        if id_producto not in self.productos.keys(): #si el producto no esta en una clave del diccionario\n",
    "            self.productos[id_producto] = [nombre,precio,cantidad] # el producto va a tener nombre precio y cantidad\n",
    "            print(f\"hemos añadido{cantidad} unidades del producto{nombre} que cuesta{precio} cada uno.\")\n",
    "            return self.productos \n",
    "        else:\n",
    "            print(f\"producto{nombre}ya existe en inventario\")# lo contrario es que no existe en el inventario\n",
    " "
   ]
  },
  {
   "cell_type": "code",
   "execution_count": 51,
   "metadata": {},
   "outputs": [
    {
     "ename": "SyntaxError",
     "evalue": "invalid syntax (3625953297.py, line 15)",
     "output_type": "error",
     "traceback": [
      "\u001b[0;36m  Cell \u001b[0;32mIn[51], line 15\u001b[0;36m\u001b[0m\n\u001b[0;31m    print(f\"producto{nombre}\"ya existe en inventario)# lo contrario es que no existe en el inventario\u001b[0m\n\u001b[0m                             ^\u001b[0m\n\u001b[0;31mSyntaxError\u001b[0m\u001b[0;31m:\u001b[0m invalid syntax\n"
     ]
    }
   ],
   "source": [
    "class Tiendaonline:\n",
    "    def __init__(self,inventario):\n",
    "        self.inventario = inventario\n",
    "        self.productos = {} # {id_producto:[nombre,precio,cantidad]}\n",
    "        self.clientes = {} # { id_cliente: [nombre, email]}\n",
    "        self.ventas = [] # [(id_venta, id_cliente, id_producto, cantidad)]\n",
    "\n",
    "    def almacenar_productos(self,id_producto,nombre,precio,cantidad):\n",
    "\n",
    "        if id_producto not in self.productos.keys(): #si el producto no esta en una clave del diccionario\n",
    "            self.productos[id_producto] = [nombre,precio,cantidad] # el producto va a tener nombre precio y cantidad\n",
    "            print(f\"hemos añadido{cantidad} producto{nombre} que cuesta{precio}\")\n",
    "            return self.productos \n",
    "        else:\n",
    "            print(f\"producto{nombre}\"ya existe en inventario)# lo contrario es que no existe en el inventario\n",
    "\n"
   ]
  },
  {
   "cell_type": "code",
   "execution_count": null,
   "metadata": {},
   "outputs": [],
   "source": [
    "class Tiendaonline:\n",
    "\n",
    "    def __init__(self,nombre,precio,cantidad):\n",
    "    \n",
    "       self.nombre = nombre\n",
    "       self.precio = precio\n",
    "       self.cantidad = cantidad"
   ]
  }
 ],
 "metadata": {
  "kernelspec": {
   "display_name": "Python 3",
   "language": "python",
   "name": "python3"
  },
  "language_info": {
   "codemirror_mode": {
    "name": "ipython",
    "version": 3
   },
   "file_extension": ".py",
   "mimetype": "text/x-python",
   "name": "python",
   "nbconvert_exporter": "python",
   "pygments_lexer": "ipython3",
   "version": "3.8.9"
  }
 },
 "nbformat": 4,
 "nbformat_minor": 2
}
